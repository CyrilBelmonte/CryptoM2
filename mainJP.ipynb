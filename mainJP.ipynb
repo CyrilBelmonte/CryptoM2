{
 "cells": [
  {
   "cell_type": "markdown",
   "metadata": {
    "collapsed": true,
    "pycharm": {
     "name": "#%% md\n"
    }
   },
   "source": [
    "# Advanced Cryptography M2\n",
    "## The El-Gamal cryptosystem\n",
    "\n",
    "### Cyril Belmonte\n",
    "#### First Example\n",
    "##### 1. Encryption\n",
    "\n",
    "We know $K_{\\text{public}}=\\space(p=167,\\alpha=5,\\beta=55)$\n",
    "\n",
    "We know $K_{\\text{secret}}=\\space a$ but we don't need it in encryption\n",
    "\n",
    "We have the message $M=10$, we want to cypher M\n",
    "\n",
    "1. We need to choose a random $k\\in\\mathbb{Z}_{p-1}$, and keep this $k$ secret, we can take $k=17$\n",
    "2. We need to compute $y_1,y_2$: \n",
    "$ \\begin{align*} &y_1 = \\alpha^k \\mod p \\overset{A.N}{\\Rightarrow} 52 = 5^{17} \\mod 167 \\\\  &y_2 = m\\cdot\\beta^k \\mod p \\overset{A.N}{\\Rightarrow} 132 = 10\\cdot55^{17} \\mod 167\\end{align*}$        \n",
    "on obtient donc $C(y_1=52,y_2=132)$\n",
    "\n",
    "##### 2. Decryption\n",
    "$\\hat{M}=y_2\\cdot(y_1^a)^{-1}\\mod p \\overset{A.N}{\\Rightarrow} \\hat{M} = 132\\cdot(52^{29})^{-1}\\mod167$\n",
    "\n",
    "we have then :\n",
    "\n",
    "$\\hat{M} = 132\\cdot(52^{29})^{-1}\\mod167 \\Longleftrightarrow 52^{29} \\cdot\\hat{M} =132 \\mod 167$\n",
    "\n",
    "We just need to find $\\hat{M}$ by varying $\\hat{M}$ :"
   ]
  },
  {
   "cell_type": "code",
   "execution_count": 1,
   "metadata": {
    "pycharm": {
     "is_executing": false,
     "name": "#%%\n"
    }
   },
   "outputs": [
    {
     "name": "stdout",
     "text": [
      "a *  1  =  80  mod  167\n",
      "a *  2  =  160  mod  167\n",
      "a *  3  =  73  mod  167\n",
      "a *  4  =  153  mod  167\n",
      "a *  5  =  66  mod  167\n",
      "a *  6  =  146  mod  167\n",
      "a *  7  =  59  mod  167\n",
      "a *  8  =  139  mod  167\n",
      "a *  9  =  52  mod  167\n",
      "a *  10  =  132  mod  167\n",
      "(10, 132)\n"
     ],
     "output_type": "stream"
    }
   ],
   "source": [
    "import tools\n",
    "a = (52 ** 29)\n",
    "p = 167\n",
    "r = 132\n",
    "\n",
    "print(tools.find_n(a, p, r))"
   ]
  },
  {
   "cell_type": "markdown",
   "metadata": {
    "pycharm": {
     "name": "#%% md\n"
    }
   },
   "source": [
    "We find $\\hat{M}=10$ equal to $M$\n",
    "\n",
    "#### Second Example\n",
    "We know $K_{\\text{public}}=\\space(p=167,\\alpha=5,\\beta=55)$\n",
    "\n",
    "We know $K_{\\text{secret}}=\\space a$\n",
    "\n",
    "We have $y_1=87$ and  $y_2=149$\n",
    "\n",
    "we have then :\n",
    "\n",
    "$\\hat{M} = 149\\cdot(87^{29})^{-1}\\mod167 \\Longleftrightarrow 87^{29} \\cdot\\hat{M} =149 \\mod 167$\n",
    "\n",
    "We just need to find $\\hat{M}$ by varying $\\hat{M}$ :"
   ]
  },
  {
   "cell_type": "code",
   "execution_count": 2,
   "metadata": {
    "pycharm": {
     "is_executing": false,
     "name": "#%%\n"
    }
   },
   "outputs": [
    {
     "name": "stdout",
     "text": [
      "a *  1  =  65  mod  167\n",
      "a *  2  =  130  mod  167\n",
      "a *  3  =  28  mod  167\n",
      "a *  4  =  93  mod  167\n",
      "a *  5  =  158  mod  167\n",
      "a *  6  =  56  mod  167\n",
      "a *  7  =  121  mod  167\n",
      "a *  8  =  19  mod  167\n",
      "a *  9  =  84  mod  167\n",
      "a *  10  =  149  mod  167\n",
      "(10, 149)\n"
     ],
     "output_type": "stream"
    }
   ],
   "source": [
    "a = (87 ** 29)\n",
    "p = 167\n",
    "r = 149\n",
    "\n",
    "print(tools.find_n(a, p, r))"
   ]
  },
  {
   "cell_type": "markdown",
   "metadata": {
    "pycharm": {
     "name": "#%% md\n"
    }
   },
   "source": [
    "we find We find $\\hat{M}=10$ "
   ]
  }
 ],
 "metadata": {
  "kernelspec": {
   "display_name": "Python 3",
   "language": "python",
   "name": "python3"
  },
  "language_info": {
   "codemirror_mode": {
    "name": "ipython",
    "version": 3
   },
   "file_extension": ".py",
   "mimetype": "text/x-python",
   "name": "python",
   "nbconvert_exporter": "python",
   "pygments_lexer": "ipython3",
   "version": "3.7.6"
  },
  "pycharm": {
   "stem_cell": {
    "cell_type": "raw",
    "metadata": {
     "collapsed": false
    },
    "source": []
   }
  }
 },
 "nbformat": 4,
 "nbformat_minor": 1
}