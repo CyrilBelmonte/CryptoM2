{
 "cells": [
  {
   "cell_type": "markdown",
   "metadata": {
    "collapsed": true,
    "pycharm": {
     "name": "#%% md\n"
    }
   },
   "source": [
    "# Advanced Cryptography M2\n",
    "## The El-Gamal digital signature\n",
    "### Cyril Belmonte\n",
    "\n",
    "#### Exercise : verify the valid signature\n",
    "\n",
    "We need to decide if the follow pairs :\n",
    " \n",
    "* a. $(\\gamma,\\delta)=(126,136)$\n",
    "\n",
    "* b. $(\\gamma,\\delta)=(139,93)$\n",
    "\n",
    "* c. $(\\gamma,\\delta)=(41,117)$\n",
    "\n",
    "are valid signatures of the message $x=10$\n",
    "\n",
    "* We have $p=149$\n",
    "* We have $\\alpha=2$\n",
    "* We have $\\beta=12$"
   ]
  },
  {
   "cell_type": "code",
   "execution_count": 15,
   "outputs": [],
   "source": [
    "import tools\n",
    "p = 149\n",
    "alpha = 2\n",
    "beta = 12\n",
    "\n",
    "x = 10"
   ],
   "metadata": {
    "collapsed": false,
    "pycharm": {
     "name": "#%%\n",
     "is_executing": false
    }
   }
  },
  {
   "cell_type": "markdown",
   "source": [
    "then we have to verify the following equation :\n",
    "\n",
    "$\\beta^{\\gamma}\\cdot\\gamma^{\\delta} \\equiv \\alpha^{x}\\mod p$\n",
    "\n",
    "with :\n",
    "\n",
    "$(\\gamma,\\delta) \\in \\mathbb{Z}_{p}\\times \\mathbb{Z}_{p-1}$\n",
    "\n",
    "* a. $(\\gamma,\\delta)=(126,136)$\n",
    "    \n",
    "    $\\beta^{\\gamma}\\cdot\\gamma^{\\delta} \\equiv \\alpha^{x}\\mod p \\overset{A.N}{\\Rightarrow}12^{126}\\cdot126^{136}\\overset{?}{\\equiv} 2^{10} \\mod 149$"
   ],
   "metadata": {
    "collapsed": false,
    "pycharm": {
     "name": "#%% md\n"
    }
   }
  },
  {
   "cell_type": "code",
   "source": [
    "gamma = 126\n",
    "delta = 136\n",
    "\n",
    "beta_pow_gamma = tools.lpowmod(beta,gamma,p)\n",
    "gamma_pow_delta = tools.lpowmod(gamma,delta,p)\n",
    "alpha_pow_x = tools.lpow(alpha,x)\n",
    "\n",
    "\n",
    "print((beta_pow_gamma*gamma_pow_delta)%p == alpha_pow_x)"
   ],
   "metadata": {
    "collapsed": false,
    "pycharm": {
     "name": "#%%\n",
     "is_executing": false
    }
   },
   "execution_count": 16,
   "outputs": [
    {
     "name": "stdout",
     "text": [
      "False\n"
     ],
     "output_type": "stream"
    }
   ]
  },
  {
   "cell_type": "markdown",
   "source": [
    "then $(\\gamma,\\delta)=(126,136)$ isn't a good signature\n",
    "* b. $(\\gamma,\\delta)=(139,93)$\n",
    "    \n",
    "    $\\beta^{\\gamma}\\cdot\\gamma^{\\delta} \\equiv \\alpha^{x}\\mod p \\overset{A.N}{\\Rightarrow}12^{139}\\cdot139^{93}\\overset{?}{\\equiv} 2^{10} \\mod 149$"
   ],
   "metadata": {
    "collapsed": false,
    "pycharm": {
     "name": "#%% md\n"
    }
   }
  },
  {
   "cell_type": "code",
   "execution_count": 18,
   "outputs": [
    {
     "name": "stdout",
     "text": [
      "False\n",
      "False\n"
     ],
     "output_type": "stream"
    }
   ],
   "source": [
    "gamma = 139\n",
    "delta = 93\n",
    "\n",
    "print(((beta**gamma)*(gamma**delta))%p == (alpha**x))\n",
    "\n",
    "beta_pow_gamma = tools.lpowmod(beta,gamma,p)\n",
    "gamma_pow_delta = tools.lpowmod(gamma,delta,p)\n",
    "alpha_pow_x = tools.lpow(alpha,x)\n",
    "\n",
    "\n",
    "print((beta_pow_gamma*gamma_pow_delta)%p == alpha_pow_x)"
   ],
   "metadata": {
    "collapsed": false,
    "pycharm": {
     "name": "#%%\n",
     "is_executing": false
    }
   }
  },
  {
   "cell_type": "markdown",
   "source": [
    "then $(\\gamma,\\delta)=(139,93)$ isn't a good signature\n",
    "* c. $(\\gamma,\\delta)=(41,117)$\n",
    "    \n",
    "    $\\beta^{\\gamma}\\cdot\\gamma^{\\delta} \\equiv \\alpha^{x}\\mod p \\overset{A.N}{\\Rightarrow}12^{41}\\cdot41^{117}\\overset{?}{\\equiv} 2^{10} \\mod 149$"
   ],
   "metadata": {
    "collapsed": false,
    "pycharm": {
     "name": "#%% md\n"
    }
   }
  },
  {
   "cell_type": "code",
   "execution_count": 17,
   "outputs": [
    {
     "name": "stdout",
     "text": [
      "False\n",
      "False\n"
     ],
     "output_type": "stream"
    }
   ],
   "source": [
    "gamma = 41\n",
    "delta = 117\n",
    "\n",
    "print(((beta**gamma)*(gamma**delta))%p == (alpha**x))\n",
    "\n",
    "beta_pow_gamma = tools.lpowmod(beta,gamma,p)\n",
    "gamma_pow_delta = tools.lpowmod(gamma,delta,p)\n",
    "alpha_pow_x = tools.lpow(alpha,x)\n",
    "\n",
    "\n",
    "print((beta_pow_gamma*gamma_pow_delta)%p == alpha_pow_x)   "
   ],
   "metadata": {
    "collapsed": false,
    "pycharm": {
     "name": "#%%\n",
     "is_executing": false
    }
   }
  }
 ],
 "metadata": {
  "kernelspec": {
   "display_name": "Python 3",
   "language": "python",
   "name": "python3"
  },
  "language_info": {
   "codemirror_mode": {
    "name": "ipython",
    "version": 2
   },
   "file_extension": ".py",
   "mimetype": "text/x-python",
   "name": "python",
   "nbconvert_exporter": "python",
   "pygments_lexer": "ipython2",
   "version": "2.7.6"
  },
  "pycharm": {
   "stem_cell": {
    "cell_type": "raw",
    "source": [],
    "metadata": {
     "collapsed": false
    }
   }
  }
 },
 "nbformat": 4,
 "nbformat_minor": 0
}