{
 "cells": [
  {
   "cell_type": "markdown",
   "metadata": {
    "collapsed": true,
    "pycharm": {
     "name": "#%% md\n"
    }
   },
   "source": [
    "# Advanced Cryptography M2\n",
    "## The El-Gamal digital signature\n",
    "### Cyril Belmonte\n",
    "\n",
    "#### Exercise : verify the valid signature\n",
    "\n",
    "We need to decide if the follow pairs :\n",
    " \n",
    "* a. $(\\gamma,\\delta)=(126,136)$\n",
    "\n",
    "* b. $(\\gamma,\\delta)=(139,93)$\n",
    "\n",
    "* c. $(\\gamma,\\delta)=(41,117)$\n",
    "\n",
    "are valid signatures of the message $x=10$\n",
    "\n",
    "* We have $p=149$\n",
    "* We have $\\alpha=2$\n",
    "* We have $\\beta=12$"
   ]
  },
  {
   "cell_type": "code",
   "execution_count": 1,
   "metadata": {
    "pycharm": {
     "is_executing": false,
     "name": "#%%\n"
    }
   },
   "outputs": [],
   "source": [
    "import tools\n",
    "p = 149\n",
    "alpha = 2\n",
    "beta = 12\n",
    "\n",
    "x = 10"
   ]
  },
  {
   "cell_type": "markdown",
   "metadata": {
    "pycharm": {
     "name": "#%% md\n"
    }
   },
   "source": [
    "then we have to verify the following equation :\n",
    "\n",
    "$\\beta^{\\gamma}\\cdot\\gamma^{\\delta} \\equiv \\alpha^{x}\\mod p$\n",
    "\n",
    "with :\n",
    "\n",
    "$(\\gamma,\\delta) \\in \\mathbb{Z}_{p}\\times \\mathbb{Z}_{p-1}$\n",
    "\n",
    "* a. $(\\gamma,\\delta)=(126,136)$\n",
    "    \n",
    "    $\\beta^{\\gamma}\\cdot\\gamma^{\\delta} \\equiv \\alpha^{x}\\mod p \\overset{A.N}{\\Rightarrow}12^{126}\\cdot126^{136}\\overset{?}{\\equiv} 2^{10} \\mod 149$"
   ]
  },
  {
   "cell_type": "code",
   "execution_count": 2,
   "metadata": {
    "pycharm": {
     "is_executing": false,
     "name": "#%%\n"
    }
   },
   "outputs": [
    {
     "name": "stdout",
     "text": [
      "beta pow gamma mod p :  54\n",
      "gamma pow delta mod p :  30\n",
      "alpha pow x mod p :  130\n",
      "True\n"
     ],
     "output_type": "stream"
    }
   ],
   "source": [
    "gamma = 126\n",
    "delta = 136\n",
    "\n",
    "beta_pow_gamma = tools.lpowmod(beta,gamma,p)\n",
    "gamma_pow_delta = tools.lpowmod(gamma,delta,p)\n",
    "alpha_pow_x = tools.lpowmod(alpha,x,p)\n",
    "\n",
    "print(\"beta pow gamma mod p : \",beta_pow_gamma)\n",
    "print(\"gamma pow delta mod p : \",gamma_pow_delta)\n",
    "print(\"alpha pow x mod p : \",alpha_pow_x)\n",
    "\n",
    "print((beta_pow_gamma*gamma_pow_delta)%p == alpha_pow_x)"
   ]
  },
  {
   "cell_type": "markdown",
   "metadata": {
    "pycharm": {
     "name": "#%% md\n"
    }
   },
   "source": [
    "then $(\\gamma,\\delta)=(126,136)$ is a good signature\n",
    "* b. $(\\gamma,\\delta)=(139,93)$\n",
    "    \n",
    "    $\\beta^{\\gamma}\\cdot\\gamma^{\\delta} \\equiv \\alpha^{x}\\mod p \\overset{A.N}{\\Rightarrow}12^{139}\\cdot139^{93}\\overset{?}{\\equiv} 2^{10} \\mod 149$"
   ]
  },
  {
   "cell_type": "code",
   "execution_count": 3,
   "metadata": {
    "pycharm": {
     "is_executing": false,
     "name": "#%%\n"
    }
   },
   "outputs": [
    {
     "name": "stdout",
     "text": [
      "beta pow gamma mod p :  3\n",
      "gamma pow delta mod p :  93\n",
      "alpha pow x mod p :  130\n",
      "True\n"
     ],
     "output_type": "stream"
    }
   ],
   "source": [
    "gamma = 139\n",
    "delta = 93\n",
    "\n",
    "beta_pow_gamma = tools.lpowmod(beta,gamma,p)\n",
    "gamma_pow_delta = tools.lpowmod(gamma,delta,p)\n",
    "alpha_pow_x = tools.lpowmod(alpha,x,p)\n",
    "\n",
    "print(\"beta pow gamma mod p : \",beta_pow_gamma)\n",
    "print(\"gamma pow delta mod p : \",gamma_pow_delta)\n",
    "print(\"alpha pow x mod p : \",alpha_pow_x)\n",
    "\n",
    "print((beta_pow_gamma*gamma_pow_delta)%p == alpha_pow_x)"
   ]
  },
  {
   "cell_type": "markdown",
   "metadata": {
    "pycharm": {
     "name": "#%% md\n"
    }
   },
   "source": [
    "then $(\\gamma,\\delta)=(139,93)$ is a good signature\n",
    "* c. $(\\gamma,\\delta)=(41,117)$\n",
    "    \n",
    "    $\\beta^{\\gamma}\\cdot\\gamma^{\\delta} \\equiv \\alpha^{x}\\mod p \\overset{A.N}{\\Rightarrow}12^{41}\\cdot41^{117}\\overset{?}{\\equiv} 2^{10} \\mod 149$"
   ]
  },
  {
   "cell_type": "code",
   "execution_count": 4,
   "metadata": {
    "pycharm": {
     "is_executing": false,
     "name": "#%%\n"
    }
   },
   "outputs": [
    {
     "name": "stdout",
     "text": [
      "beta pow gamma mod p :  92\n",
      "gamma pow delta mod p :  50\n",
      "alpha pow x mod p :  130\n",
      "True\n"
     ],
     "output_type": "stream"
    }
   ],
   "source": [
    "gamma = 41\n",
    "delta = 117\n",
    "\n",
    "beta_pow_gamma = tools.lpowmod(beta,gamma,p)\n",
    "gamma_pow_delta = tools.lpowmod(gamma,delta,p)\n",
    "alpha_pow_x = tools.lpowmod(alpha,x,p)\n",
    "\n",
    "print(\"beta pow gamma mod p : \",beta_pow_gamma)\n",
    "print(\"gamma pow delta mod p : \",gamma_pow_delta)\n",
    "print(\"alpha pow x mod p : \",alpha_pow_x)\n",
    "\n",
    "print((beta_pow_gamma*gamma_pow_delta)%p == alpha_pow_x)   "
   ]
  }
 ],
 "metadata": {
  "kernelspec": {
   "display_name": "Python 3",
   "language": "python",
   "name": "python3"
  },
  "language_info": {
   "codemirror_mode": {
    "name": "ipython",
    "version": 3
   },
   "file_extension": ".py",
   "mimetype": "text/x-python",
   "name": "python",
   "nbconvert_exporter": "python",
   "pygments_lexer": "ipython3",
   "version": "3.7.4"
  },
  "pycharm": {
   "stem_cell": {
    "cell_type": "raw",
    "source": [],
    "metadata": {
     "collapsed": false
    }
   }
  }
 },
 "nbformat": 4,
 "nbformat_minor": 1
}